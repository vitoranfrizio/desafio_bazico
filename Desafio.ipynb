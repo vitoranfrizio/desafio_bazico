{
  "nbformat": 4,
  "nbformat_minor": 0,
  "metadata": {
    "colab": {
      "provenance": []
    },
    "kernelspec": {
      "name": "python3",
      "display_name": "Python 3"
    },
    "language_info": {
      "name": "python"
    }
  },
  "cells": [
    {
      "cell_type": "markdown",
      "source": [
        "# **Desafio - Bázico**\n",
        "### **Por Vitor Anfrizio**\n",
        "\n",
        "Para este desafio, usei as bibliotecas _pandas_, _numpy_, _matplotlib_ e _pickle_.\n",
        "\n",
        "Como usei o _Google Colab_ como ambiente, fiz o upload do arquivo \"vendas_de_produtos.csv\" no _Google Drive_.\n",
        "\n",
        "De início, modifiquei a coluna \"Data\" para o formato aceitável de data e criei uma coluna que indica se a compra foi feita nos últimos 14 dias. Após isso, transformei as descrições em variáveis categóricas, removi dados nulos e algumas colunas que não seriam necessárias à análise."
      ],
      "metadata": {
        "id": "0Q6Rksl80AaV"
      }
    },
    {
      "cell_type": "code",
      "execution_count": 1,
      "metadata": {
        "id": "YeRocLMAGu_L"
      },
      "outputs": [],
      "source": [
        "import pandas as pd\n",
        "import numpy as np\n",
        "import pickle\n",
        "\n",
        "from sklearn.model_selection import train_test_split\n",
        "from sklearn.linear_model import LogisticRegression\n",
        "from sklearn.metrics import classification_report "
      ]
    },
    {
      "cell_type": "code",
      "source": [
        "from google.colab import drive\n",
        "drive.mount('/content/drive')\n",
        "\n",
        "dados = pd.read_excel(\"/content/drive/MyDrive/vendas_de_produtos.xlsx\")"
      ],
      "metadata": {
        "colab": {
          "base_uri": "https://localhost:8080/"
        },
        "id": "tIjCgmlpHBQw",
        "outputId": "e880e882-2150-4901-b458-80759c07bc02"
      },
      "execution_count": 2,
      "outputs": [
        {
          "output_type": "stream",
          "name": "stdout",
          "text": [
            "Mounted at /content/drive\n"
          ]
        }
      ]
    },
    {
      "cell_type": "code",
      "source": [
        "dados['Data'] = pd.to_datetime(dados['Data']) \n",
        "dados['Compra_14_Dias'] = (dados['Data'].max() - dados['Data']).dt.days <= 14\n",
        "dados['Categoria_Produto'] = pd.Categorical(dados['Descrição_Produto']).codes"
      ],
      "metadata": {
        "id": "bTTeiJuvwXTm"
      },
      "execution_count": 3,
      "outputs": []
    },
    {
      "cell_type": "code",
      "source": [
        "dados = dados.drop(['ID_Produto', 'Descrição_Produto', 'ID_Pedido', 'Preço_Unitário', 'Desconto'], axis=1)\n",
        "dados = dados[dados['ID_Cliente'].notna()]\n",
        "dados = dados[dados['Data'].notna()]\n",
        "dados = dados[dados['Compra_14_Dias'].notna()]"
      ],
      "metadata": {
        "id": "-iRhUjTwhkDJ"
      },
      "execution_count": 4,
      "outputs": []
    },
    {
      "cell_type": "markdown",
      "source": [
        "A partir deste ponto, separei os dados em conjuntos de treino e teste, usando a função train_test_split. Os dados de entrada, que são as informações dos clientes, foram selecionados usando a função drop. A partir daqui começa a parte preditiva.\n",
        "\n",
        "70% dos dados foram usados para treino (X_train e y_train) e 30% para teste (X_test e y_test). Essa divisão permitiu avaliar a capacidade de generalização do modelo.\n",
        "\n",
        "Daqui, criei uma instância da classe LogisticRegression e usei a função fit para treinar o modelo nos dados de treino. Fiz isso para encontrar os coeficientes da equação de regressão logística que se ajustam melhor aos dados.\n",
        "\n",
        "Como último ponto até aqui, usei o modelo treinado para fazer previsões nos dados de teste (y_pred) e comparei com as respostas reais (y_test) pra avaliar a qualidade do modelo."
      ],
      "metadata": {
        "id": "Oakk4I5sqyqm"
      }
    },
    {
      "cell_type": "code",
      "source": [
        "X_train, X_test, y_train, y_test = train_test_split(\n",
        "    dados.drop(['ID_Cliente', 'Data', 'Compra_14_Dias'], axis=1),\n",
        "    dados['Compra_14_Dias'],\n",
        "    test_size=0.3,\n",
        "    random_state=42\n",
        ")"
      ],
      "metadata": {
        "id": "qXeacVO-gqaC"
      },
      "execution_count": 5,
      "outputs": []
    },
    {
      "cell_type": "code",
      "source": [
        "modelo = LogisticRegression()\n",
        "modelo.fit(X_train, y_train)\n",
        "\n",
        "y_pred = modelo.predict(X_test)\n",
        "\n",
        "print(classification_report(y_test, y_pred))"
      ],
      "metadata": {
        "colab": {
          "base_uri": "https://localhost:8080/"
        },
        "id": "Ia85qqTmhweW",
        "outputId": "ef616859-3e13-4db9-82d4-f7af04d10f8a"
      },
      "execution_count": 6,
      "outputs": [
        {
          "output_type": "stream",
          "name": "stdout",
          "text": [
            "              precision    recall  f1-score   support\n",
            "\n",
            "       False       0.88      1.00      0.93      4471\n",
            "        True       1.00      0.00      0.01       637\n",
            "\n",
            "    accuracy                           0.88      5108\n",
            "   macro avg       0.94      0.50      0.47      5108\n",
            "weighted avg       0.89      0.88      0.82      5108\n",
            "\n"
          ]
        }
      ]
    },
    {
      "cell_type": "markdown",
      "source": [
        "Como visto acima, o modelo gerado teve uma acurácia de 88% (previu corretamenta, em 88% das vezes, se um cliente faria uma nova compra nos próximos 14 dias ou não). \n",
        "\n",
        "Em contrapartida, o recall da classe \"True\" (propensos a fazer recompra) ficou zerado (o modelo não conseguiu identificar corretamente nenhum cliente que realmente fez uma nova compra nesse período), indicando que o modelo precisa de alguns ajustes.\n",
        "\n",
        "Uma das soluções que me veio à mente foi o uso da técnica SMOTE (Synthetic Minority Over-sampling Technique) pra gerar, com base nas observações que já existem, novas observações sintéticas para a classe dos clientes que fizeram recompra.\n",
        "\n",
        "Para isso, usei a biblioteca _imbalanced-learn_. Apliquei a SMOTE no conjunto de treino, retreinei o modelo e fiz as previsões com o conjunto reamostrado"
      ],
      "metadata": {
        "id": "yOLlS7WvsbI-"
      }
    },
    {
      "cell_type": "code",
      "source": [
        "from imblearn.over_sampling import SMOTE\n",
        "from sklearn.ensemble import RandomForestClassifier"
      ],
      "metadata": {
        "id": "OqHdrx-bMhjm"
      },
      "execution_count": 7,
      "outputs": []
    },
    {
      "cell_type": "code",
      "source": [
        "sm = SMOTE(random_state=42)\n",
        "X_train_res, y_train_res = sm.fit_resample(X_train, y_train)\n",
        "\n",
        "modelo = RandomForestClassifier(random_state=42)\n",
        "modelo.fit(X_train_res, y_train_res)\n",
        "\n",
        "y_pred = modelo.predict(X_test)\n",
        "\n",
        "print(classification_report(y_test, y_pred))\n",
        "\n",
        "# Salvando o modelo\n",
        "with open('modelo_classificacao.pkl', 'wb') as arquivo_modelo:\n",
        "    pickle.dump(modelo, arquivo_modelo)"
      ],
      "metadata": {
        "colab": {
          "base_uri": "https://localhost:8080/"
        },
        "id": "oUiwr0RoMRnd",
        "outputId": "b28a687b-e5bc-4729-88be-45a8ebf4623a"
      },
      "execution_count": 9,
      "outputs": [
        {
          "output_type": "stream",
          "name": "stdout",
          "text": [
            "              precision    recall  f1-score   support\n",
            "\n",
            "       False       0.94      0.85      0.90      4471\n",
            "        True       0.38      0.62      0.47       637\n",
            "\n",
            "    accuracy                           0.83      5108\n",
            "   macro avg       0.66      0.74      0.68      5108\n",
            "weighted avg       0.87      0.83      0.84      5108\n",
            "\n"
          ]
        }
      ]
    },
    {
      "cell_type": "markdown",
      "source": [
        "Com a aplicação da SMOTE, houve uma melhora no recall da classe de clientes que farão recompra (minoritária), passando de 0.0 para 0.65. No entanto, a precisão da classe minoritária caiu, passando de 1.0 para 0.36, indicando que o modelo está prevendo muitos falsos positivos. Em termos mais claros: o modelo está \"acertando\" 65% das recompras, mas indica que 35% dos clientes que não farão recompra, na verdade, farão.\n",
        "\n",
        "Apesar disso, apliquei a curva ROC para avaliar melhor o desempenho do modelo. Separei o conjunto de teste, calculei as probabilidades de classe, AUC e plotei o gráfico da curva:"
      ],
      "metadata": {
        "id": "nwP6pKLXuAWG"
      }
    },
    {
      "cell_type": "code",
      "source": [
        "from sklearn.metrics import roc_curve, auc\n",
        "import matplotlib.pyplot as plt"
      ],
      "metadata": {
        "id": "M150yE52IfU9"
      },
      "execution_count": 10,
      "outputs": []
    },
    {
      "cell_type": "code",
      "source": [
        "X_test = dados.drop(['ID_Cliente', 'Data', 'Compra_14_Dias'], axis=1)\n",
        "y_test = dados['Compra_14_Dias']"
      ],
      "metadata": {
        "id": "oa5C2C38I8Du"
      },
      "execution_count": 11,
      "outputs": []
    },
    {
      "cell_type": "code",
      "source": [
        "y_pred = modelo.predict(X_test)\n",
        "y_prob = modelo.predict_proba(X_test)[:, 1]\n",
        "fpr, tpr, thresholds = roc_curve(y_test, y_prob)\n",
        "roc_auc = auc(fpr, tpr)"
      ],
      "metadata": {
        "id": "FseJzersJ-hn"
      },
      "execution_count": 12,
      "outputs": []
    },
    {
      "cell_type": "code",
      "source": [
        "plt.plot(fpr, tpr, color='darkorange', lw=2, label='curva ROC (área = %0.2f)' % roc_auc)\n",
        "plt.plot([0, 1], [0, 1], color='navy', lw=2, linestyle='--')\n",
        "plt.xlim([0.0, 1.0])\n",
        "plt.ylim([0.0, 1.05])\n",
        "plt.xlabel('Taxa de Falsos Positivos')\n",
        "plt.ylabel('Taxa de Verdadeiros Positivos')\n",
        "plt.title('ROC - Receiver Operating Characteristic')\n",
        "plt.legend(loc=\"lower right\")\n",
        "plt.show()"
      ],
      "metadata": {
        "colab": {
          "base_uri": "https://localhost:8080/",
          "height": 472
        },
        "id": "GxptTTNyK53Z",
        "outputId": "16ced24c-2868-4631-b7c6-9fdf5b6d91ce"
      },
      "execution_count": 13,
      "outputs": [
        {
          "output_type": "display_data",
          "data": {
            "text/plain": [
              "<Figure size 640x480 with 1 Axes>"
            ],
            "image/png": "[encoded data removed]"
          },
          "metadata": {}
        }
      ]
    },
    {
      "cell_type": "markdown",
      "source": [
        "Após a aplicação do SMOTE, a área da curva ROC, indicada no gráfico acima, foi de 0.94, indicando que o modelo teve um desempenho bastante satisfatório, sendo capaz distinguir muito bem entre as classes positivas e negativas, tendo uma alta taxa de assertividade. Abaixo, seguem as tabelas pré e pós-aplicação da SMOTE:\n",
        "\n",
        "### Pre-SMOTE\t\t\n",
        "|                  | Precision | Recall | F1-Score | Support |\n",
        "|------------------|-----------|--------|----------|---------|\n",
        "| False            | 0.88      | 1.00   | 0.93     | 4471    |\n",
        "| True             | 1.00      | 0.00   | 0.01     | 637     |\n",
        "| Accuracy         |       |     | 0.88     | 5108    |\n",
        "| Macro Average    | 0.94      | 0.5    | 0.47     | 5108    |\n",
        "| Weighted Average | 0.98      | 0.88   | 0.82     | 5108    |\n",
        "\n",
        "\n",
        "\n",
        "### Post-SMOTE\n",
        "|                  | Precision | Recall | F1-Score | Support |\n",
        "|------------------|-----------|--------|----------|---------|\n",
        "| False            | 0.94      | 0.84   | 0.89     | 2991    |\n",
        "| True             | 0.36      | 0.65   | 0.47     | 415     |\n",
        "| Accuracy         |       |     | 0.82     | 3406    |\n",
        "| Macro Average    | 0.65      | 0.74    | 0.68     | 3406    |\n",
        "| Weighted Average | 0.87      | 0.82   | 0.84     | 3406    |"
      ],
      "metadata": {
        "id": "5CqHTVeVP-Nv"
      }
    },
    {
      "cell_type": "markdown",
      "source": [
        "Para finalizar, carreguei o modelo salvo e apliquei ao conjunto de clientes que ainda não fizeram uma recompra. Daí, classifiquei-os de acordo com as probabilidades geradas pelo modelo. No final, \"imprimi\" a lista de clientes ordenada por probabilidade de recompra e, logo após, imprimi a lista dos 100 clientes com a maior probabilidade de recompra, segundo o modelo."
      ],
      "metadata": {
        "id": "c08O5f1UxCc8"
      }
    },
    {
      "cell_type": "code",
      "source": [
        "with open('modelo_classificacao.pkl', 'rb') as arquivo_modelo:\n",
        "    modelo_carregado = pickle.load(arquivo_modelo)"
      ],
      "metadata": {
        "id": "eGe8ZNoMoyNY"
      },
      "execution_count": 14,
      "outputs": []
    },
    {
      "cell_type": "code",
      "source": [
        "probabilidades = modelo_carregado.predict_proba(X_test)[:, 1]\n",
        "\n",
        "dados_probabilidades = pd.DataFrame({'ID_Cliente': X_test.index, 'Probabilidade_Recompra': probabilidades})\n",
        "dados_probabilidades = dados_probabilidades.sort_values(by=['Probabilidade_Recompra'], ascending=False)\n",
        "\n",
        "print(dados_probabilidades)"
      ],
      "metadata": {
        "colab": {
          "base_uri": "https://localhost:8080/"
        },
        "id": "fUxgO4eap7q6",
        "outputId": "e4b1fb71-cf09-42a4-8403-25a514c133c3"
      },
      "execution_count": 17,
      "outputs": [
        {
          "output_type": "stream",
          "name": "stdout",
          "text": [
            "       ID_Cliente  Probabilidade_Recompra\n",
            "15894       15894                     1.0\n",
            "16195       16195                     1.0\n",
            "12851       12851                     1.0\n",
            "12866       12866                     1.0\n",
            "16301       16301                     1.0\n",
            "...           ...                     ...\n",
            "8666         8666                     0.0\n",
            "8667         8667                     0.0\n",
            "8668         8668                     0.0\n",
            "2993         2993                     0.0\n",
            "0               0                     0.0\n",
            "\n",
            "[17026 rows x 2 columns]\n"
          ]
        }
      ]
    },
    {
      "cell_type": "code",
      "source": [
        "top_100_clientes = dados_probabilidades.head(100)['ID_Cliente'].tolist()\n",
        "print(top_100_clientes)"
      ],
      "metadata": {
        "colab": {
          "base_uri": "https://localhost:8080/"
        },
        "id": "mBGWIqIg_3KB",
        "outputId": "ac5d3de9-7907-49ce-9ade-4448a6c71637"
      },
      "execution_count": 18,
      "outputs": [
        {
          "output_type": "stream",
          "name": "stdout",
          "text": [
            "[15894, 16195, 12851, 12866, 16301, 12902, 12903, 16741, 3036, 8347, 12937, 16295, 16291, 16290, 8155, 8154, 8153, 8141, 16278, 16277, 3098, 1962, 16275, 16273, 7875, 16733, 8521, 16305, 16355, 16382, 12427, 9190, 16379, 16371, 16368, 12474, 16703, 16357, 16705, 16710, 16306, 8696, 8671, 3006, 16333, 16331, 16320, 12664, 16317, 16727, 12774, 7852, 7849, 16765, 13548, 233, 16549, 16211, 3193, 16779, 16780, 16781, 16210, 16784, 16785, 13551, 13280, 7267, 16207, 16790, 13599, 7265, 214, 16203, 13626, 13654, 16198, 16214, 16231, 7813, 13233, 16272, 7729, 16268, 13145, 16257, 16256, 16775, 16251, 256, 255, 252, 238, 13251, 16247, 16240, 16778, 3164, 16239, 16238]\n"
          ]
        }
      ]
    }
  ]
}